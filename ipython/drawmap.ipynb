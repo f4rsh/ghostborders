{
 "cells": [
  {
   "cell_type": "code",
   "execution_count": 1,
   "metadata": {
    "collapsed": true
   },
   "outputs": [],
   "source": [
    "## configuration"
   ]
  },
  {
   "cell_type": "code",
   "execution_count": 2,
   "metadata": {
    "collapsed": true
   },
   "outputs": [],
   "source": [
    "# input file (set to None to guess):\n",
    "input_file = '/Users/telmo/projects/ghostborders/berlin-media-borders.csv'\n",
    "\n",
    "# countries:\n",
    "# israel, belgium, belgium2, ukraine, poland, portugal, romania\n",
    "country = 'berlin'\n",
    "\n",
    "# borders type\n",
    "# media, comment\n",
    "data_source = 'media'\n",
    "# two, many\n",
    "partitions = 'many'\n",
    "\n",
    "# resolutions:\n",
    "# c (crude), l (low), i (intermediate), h (high), f (full)\n",
    "resolution = 'i'\n",
    "\n",
    "# picture width\n",
    "width = 12.0"
   ]
  },
  {
   "cell_type": "markdown",
   "metadata": {},
   "source": [
    "## visualization"
   ]
  },
  {
   "cell_type": "code",
   "execution_count": 3,
   "metadata": {
    "collapsed": true
   },
   "outputs": [],
   "source": [
    "# colors\n",
    "land_color = 'white'\n",
    "water_color = 'skyblue'\n",
    "coastline_color = 'grey'\n",
    "border_color = 'black'\n",
    "phantom_border_color = 'red'\n",
    "\n",
    "# widths\n",
    "border_width = 2.\n",
    "coastline_width = 3.\n",
    "phantom_border_width_factor = 3.\n",
    "river_width = 1.5\n",
    "point_size_factor = 10.\n",
    "\n",
    "# options\n",
    "draw_photo_density = False\n",
    "draw_population_density = False\n",
    "draw_rivers = True"
   ]
  },
  {
   "cell_type": "markdown",
   "metadata": {},
   "source": [
    "### constants"
   ]
  },
  {
   "cell_type": "code",
   "execution_count": 4,
   "metadata": {
    "collapsed": false
   },
   "outputs": [],
   "source": [
    "country_coords = {\n",
    "    'israel': [29.340105, 33.736538, 33.446167, 36.098598],\n",
    "    'belgium': [49.4, 2.420480, 51.726419, 6.589545],\n",
    "    'belgium2': [48.5, 1.51, 53.0, 8.5],\n",
    "    'poland': [48.54, 13.95, 55.20, 24.94],\n",
    "    'portugal': [36.76, -9.93, 42.21, -5.64],\n",
    "    'romania': [43.45, 20.10, 48.72, 30.62],\n",
    "    'ukraine': [44.00, 21.00, 53.00, 42.00],\n",
    "    'berlin': [52.31, 13.05, 52.69, 13.77]\n",
    "}\n",
    "\n",
    "country_NUTS_codes = {\n",
    "    'israel': [],\n",
    "    'belgium': ['BE'],\n",
    "    'belgium2': ['BE', 'FR', 'NL', 'LU', 'DE'],\n",
    "    'poland': ['PL'],\n",
    "    'portugal': ['PT'],\n",
    "    'romania': ['RO'],\n",
    "    'ukraine': []\n",
    "}"
   ]
  },
  {
   "cell_type": "markdown",
   "metadata": {},
   "source": [
    "### read data"
   ]
  },
  {
   "cell_type": "code",
   "execution_count": 5,
   "metadata": {
    "collapsed": false
   },
   "outputs": [
    {
     "ename": "OSError",
     "evalue": "/Users/telmo/Dropbox/phantomgrenzen/countries/berlin/berlin_photodensity.csv not found.",
     "output_type": "error",
     "traceback": [
      "\u001b[0;31m---------------------------------------------------------------------------\u001b[0m",
      "\u001b[0;31mOSError\u001b[0m                                   Traceback (most recent call last)",
      "\u001b[0;32m<ipython-input-5-d384489d7d5c>\u001b[0m in \u001b[0;36m<module>\u001b[0;34m()\u001b[0m\n\u001b[1;32m     12\u001b[0m \u001b[0;34m\u001b[0m\u001b[0m\n\u001b[1;32m     13\u001b[0m dens = genfromtxt('/Users/telmo/Dropbox/phantomgrenzen/countries/'\n\u001b[0;32m---> 14\u001b[0;31m                 + country + '/' + country + '_photodensity.csv', delimiter=',', skip_header=1)\n\u001b[0m",
      "\u001b[0;32m/Users/telmo/anaconda/lib/python3.4/site-packages/numpy/lib/npyio.py\u001b[0m in \u001b[0;36mgenfromtxt\u001b[0;34m(fname, dtype, comments, delimiter, skip_header, skip_footer, converters, missing_values, filling_values, usecols, names, excludelist, deletechars, replace_space, autostrip, case_sensitive, defaultfmt, unpack, usemask, loose, invalid_raise, max_rows)\u001b[0m\n\u001b[1;32m   1448\u001b[0m                 \u001b[0mfhd\u001b[0m \u001b[0;34m=\u001b[0m \u001b[0miter\u001b[0m\u001b[0;34m(\u001b[0m\u001b[0mnp\u001b[0m\u001b[0;34m.\u001b[0m\u001b[0mlib\u001b[0m\u001b[0;34m.\u001b[0m\u001b[0m_datasource\u001b[0m\u001b[0;34m.\u001b[0m\u001b[0mopen\u001b[0m\u001b[0;34m(\u001b[0m\u001b[0mfname\u001b[0m\u001b[0;34m,\u001b[0m \u001b[0;34m'rbU'\u001b[0m\u001b[0;34m)\u001b[0m\u001b[0;34m)\u001b[0m\u001b[0;34m\u001b[0m\u001b[0m\n\u001b[1;32m   1449\u001b[0m             \u001b[0;32melse\u001b[0m\u001b[0;34m:\u001b[0m\u001b[0;34m\u001b[0m\u001b[0m\n\u001b[0;32m-> 1450\u001b[0;31m                 \u001b[0mfhd\u001b[0m \u001b[0;34m=\u001b[0m \u001b[0miter\u001b[0m\u001b[0;34m(\u001b[0m\u001b[0mnp\u001b[0m\u001b[0;34m.\u001b[0m\u001b[0mlib\u001b[0m\u001b[0;34m.\u001b[0m\u001b[0m_datasource\u001b[0m\u001b[0;34m.\u001b[0m\u001b[0mopen\u001b[0m\u001b[0;34m(\u001b[0m\u001b[0mfname\u001b[0m\u001b[0;34m,\u001b[0m \u001b[0;34m'rb'\u001b[0m\u001b[0;34m)\u001b[0m\u001b[0;34m)\u001b[0m\u001b[0;34m\u001b[0m\u001b[0m\n\u001b[0m\u001b[1;32m   1451\u001b[0m             \u001b[0mown_fhd\u001b[0m \u001b[0;34m=\u001b[0m \u001b[0;32mTrue\u001b[0m\u001b[0;34m\u001b[0m\u001b[0m\n\u001b[1;32m   1452\u001b[0m         \u001b[0;32melse\u001b[0m\u001b[0;34m:\u001b[0m\u001b[0;34m\u001b[0m\u001b[0m\n",
      "\u001b[0;32m/Users/telmo/anaconda/lib/python3.4/site-packages/numpy/lib/_datasource.py\u001b[0m in \u001b[0;36mopen\u001b[0;34m(path, mode, destpath)\u001b[0m\n\u001b[1;32m    149\u001b[0m \u001b[0;34m\u001b[0m\u001b[0m\n\u001b[1;32m    150\u001b[0m     \u001b[0mds\u001b[0m \u001b[0;34m=\u001b[0m \u001b[0mDataSource\u001b[0m\u001b[0;34m(\u001b[0m\u001b[0mdestpath\u001b[0m\u001b[0;34m)\u001b[0m\u001b[0;34m\u001b[0m\u001b[0m\n\u001b[0;32m--> 151\u001b[0;31m     \u001b[0;32mreturn\u001b[0m \u001b[0mds\u001b[0m\u001b[0;34m.\u001b[0m\u001b[0mopen\u001b[0m\u001b[0;34m(\u001b[0m\u001b[0mpath\u001b[0m\u001b[0;34m,\u001b[0m \u001b[0mmode\u001b[0m\u001b[0;34m)\u001b[0m\u001b[0;34m\u001b[0m\u001b[0m\n\u001b[0m\u001b[1;32m    152\u001b[0m \u001b[0;34m\u001b[0m\u001b[0m\n\u001b[1;32m    153\u001b[0m \u001b[0;34m\u001b[0m\u001b[0m\n",
      "\u001b[0;32m/Users/telmo/anaconda/lib/python3.4/site-packages/numpy/lib/_datasource.py\u001b[0m in \u001b[0;36mopen\u001b[0;34m(self, path, mode)\u001b[0m\n\u001b[1;32m    499\u001b[0m             \u001b[0;32mreturn\u001b[0m \u001b[0m_file_openers\u001b[0m\u001b[0;34m[\u001b[0m\u001b[0mext\u001b[0m\u001b[0;34m]\u001b[0m\u001b[0;34m(\u001b[0m\u001b[0mfound\u001b[0m\u001b[0;34m,\u001b[0m \u001b[0mmode\u001b[0m\u001b[0;34m=\u001b[0m\u001b[0mmode\u001b[0m\u001b[0;34m)\u001b[0m\u001b[0;34m\u001b[0m\u001b[0m\n\u001b[1;32m    500\u001b[0m         \u001b[0;32melse\u001b[0m\u001b[0;34m:\u001b[0m\u001b[0;34m\u001b[0m\u001b[0m\n\u001b[0;32m--> 501\u001b[0;31m             \u001b[0;32mraise\u001b[0m \u001b[0mIOError\u001b[0m\u001b[0;34m(\u001b[0m\u001b[0;34m\"%s not found.\"\u001b[0m \u001b[0;34m%\u001b[0m \u001b[0mpath\u001b[0m\u001b[0;34m)\u001b[0m\u001b[0;34m\u001b[0m\u001b[0m\n\u001b[0m\u001b[1;32m    502\u001b[0m \u001b[0;34m\u001b[0m\u001b[0m\n\u001b[1;32m    503\u001b[0m \u001b[0;34m\u001b[0m\u001b[0m\n",
      "\u001b[0;31mOSError\u001b[0m: /Users/telmo/Dropbox/phantomgrenzen/countries/berlin/berlin_photodensity.csv not found."
     ]
    }
   ],
   "source": [
    "from numpy import genfromtxt\n",
    "parts = ''\n",
    "if partitions == 'two':\n",
    "    parts = '2'\n",
    "    \n",
    "path = input_file\n",
    "if input_file is None:\n",
    "    path = '/Users/telmo/Dropbox/phantomgrenzen/countries/' + country + '/' + country + '-' + data_source + '-borders-crop' + parts + '.csv'\n",
    "    \n",
    "co = genfromtxt(path, delimiter=',', skip_header=1)\n",
    "cols = co.shape[0]\n",
    "\n",
    "dens = genfromtxt('/Users/telmo/Dropbox/phantomgrenzen/countries/'\n",
    "                + country + '/' + country + '_photodensity.csv', delimiter=',', skip_header=1)"
   ]
  },
  {
   "cell_type": "markdown",
   "metadata": {},
   "source": [
    "### plot map"
   ]
  },
  {
   "cell_type": "code",
   "execution_count": 30,
   "metadata": {
    "collapsed": false
   },
   "outputs": [
    {
     "name": "stderr",
     "output_type": "stream",
     "text": [
      "/Users/telmo/anaconda/lib/python3.4/site-packages/matplotlib/collections.py:590: FutureWarning: elementwise comparison failed; returning scalar instead, but in the future will perform elementwise comparison\n",
      "  if self._edgecolors == str('face'):\n"
     ]
    },
    {
     "data": {
      "image/png": "[encoded data removed]",
      "text/plain": [
       "<matplotlib.figure.Figure at 0x116ab1550>"
      ]
     },
     "metadata": {},
     "output_type": "display_data"
    }
   ],
   "source": [
    "%matplotlib inline\n",
    "\n",
    "#from mpl_toolkits.basemap import Basemap\n",
    "import matplotlib as mpl\n",
    "import matplotlib.pyplot as plt\n",
    "import matplotlib.cm as cm\n",
    "import math\n",
    "from mpl_toolkits.basemap import Basemap\n",
    "\n",
    "cc = country_coords[country] \n",
    "x0 = cc[1]\n",
    "y0 = cc[0]\n",
    "x1 = cc[3]\n",
    "y1 = cc[2]\n",
    "dx = abs(x1 - x0)\n",
    "dy = abs(y1 - y0)\n",
    "\n",
    "height = width * dy / dx\n",
    "\n",
    "plt.figure(figsize=(width, height))\n",
    "m = Basemap(projection='merc', resolution=resolution, llcrnrlat=y0, llcrnrlon=x0, urcrnrlat=y1, urcrnrlon=x1)\n",
    "\n",
    "xorig, yorig = m(x0, y0)\n",
    "\n",
    "m.drawlsmask(resolution=resolution, grid=1.25, ocean_color=water_color, land_color=land_color)\n",
    "m.drawcoastlines(linewidth=coastline_width, color=coastline_color)\n",
    "if draw_rivers:\n",
    "    m.drawrivers(color=water_color, linewidth=river_width)\n",
    "m.fillcontinents(color=land_color, lake_color=water_color)\n",
    "\n",
    "# draw population densities\n",
    "if draw_population_density:\n",
    "    s = m.readshapefile('/Users/telmo/projects/phantomborders/dens/dens', 'dens')\n",
    "\n",
    "    min_dens = float(\"inf\")\n",
    "    max_dens = float(\"-inf\")\n",
    "    for info in m.dens_info:\n",
    "        if info['NUTS_ID'][0:2] in country_NUTS_codes[country]:\n",
    "            d = info['DENSITY']\n",
    "            if d < 1:\n",
    "                d = 1\n",
    "            d = math.log(float(d))\n",
    "            #d = float(d)\n",
    "            if d < min_dens:\n",
    "                min_dens = d\n",
    "            if d > max_dens:\n",
    "                max_dens = d\n",
    "\n",
    "    norm = mpl.colors.Normalize(vmin=min_dens, vmax=max_dens)\n",
    "    cmap = cm.Greens\n",
    "    sm = cm.ScalarMappable(norm=norm, cmap=cmap)\n",
    "\n",
    "    for xy, info in zip(m.dens, m.dens_info):\n",
    "        if info['NUTS_ID'][0:2] in country_NUTS_codes[country]:\n",
    "            d = info['DENSITY']\n",
    "            if d < 1:\n",
    "                d = 1\n",
    "            d = math.log(float(d))\n",
    "            #d = float(d)\n",
    "            poly = Polygon(xy, facecolor=sm.to_rgba(d), alpha=0.9)\n",
    "            plt.gca().add_patch(poly)\n",
    "else:\n",
    "    m.drawcountries(linewidth=border_width)\n",
    "\n",
    "# draw photo densities\n",
    "if draw_photo_density:\n",
    "    max_photo_dens = float(\"-inf\")\n",
    "    for i in range(len(dens)):\n",
    "        pdens = math.log(dens[i][2])\n",
    "        if pdens > max_photo_dens:\n",
    "            max_photo_dens = pdens\n",
    "    \n",
    "    for i in range(len(dens)):\n",
    "        x, y = m(dens[i][1], dens[i][0])\n",
    "        x -= xorig\n",
    "        y -= yorig\n",
    "        weight = math.log(dens[i][2]) / max_photo_dens\n",
    "        if weight < 0.001:\n",
    "            weight = 0.001\n",
    "        color = (0, 0, 1.0)\n",
    "        weight *= point_size_factor\n",
    "        #poly = m.ellipse(x, y, radius, radius, 20, facecolor=color, edgecolor='none', alpha=0.8)\n",
    "        m.plot(x, y, 'b.', markersize=weight)\n",
    "\n",
    "# draw phantom borders\n",
    "for i in range(cols):\n",
    "    x, y = m((co[i][1], co[i][3]), (co[i][0], co[i][2]))\n",
    "    x = (x[0] - xorig, x[1] - xorig)\n",
    "    y = (y[0] - yorig, y[1] - yorig)\n",
    "    weight = co[i][4] * phantom_border_width_factor\n",
    "    m.plot(x, y, phantom_border_color, linewidth=weight)\n",
    "        \n",
    "plt.show()"
   ]
  },
  {
   "cell_type": "code",
   "execution_count": null,
   "metadata": {
    "collapsed": true
   },
   "outputs": [],
   "source": []
  }
 ],
 "metadata": {
  "kernelspec": {
   "display_name": "Python 3",
   "language": "python",
   "name": "python3"
  },
  "language_info": {
   "codemirror_mode": {
    "name": "ipython",
    "version": 3
   },
   "file_extension": ".py",
   "mimetype": "text/x-python",
   "name": "python",
   "nbconvert_exporter": "python",
   "pygments_lexer": "ipython3",
   "version": "3.4.3"
  }
 },
 "nbformat": 4,
 "nbformat_minor": 0
}
